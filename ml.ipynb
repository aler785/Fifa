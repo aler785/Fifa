{
 "cells": [
  {
   "cell_type": "markdown",
   "metadata": {},
   "source": [
    "# Data Science project\n",
    "## **Analyzing FIFA 19 players dataset**"
   ]
  },
  {
   "cell_type": "markdown",
   "metadata": {},
   "source": [
    "Further considerarations and ML tecniques\n",
    "\n",
    "Source: https://www.kaggle.com/karangadiya/fifa19\n",
    "\n",
    "Importing libraries"
   ]
  },
  {
   "cell_type": "code",
   "execution_count": 1,
   "metadata": {},
   "outputs": [],
   "source": [
    "import pickle\n",
    "import pandas as pd\n",
    "import numpy as np\n",
    "from math import pi\n",
    "from sklearn.linear_model import LinearRegression\n",
    "from sklearn.tree import DecisionTreeClassifier # Import Decision Tree Classifier\n",
    "from sklearn.model_selection import train_test_split # Import train_test_split function\n",
    "from sklearn import metrics #Import scikit-learn metrics module for accuracy calculation\n",
    "from sklearn.cluster import KMeans"
   ]
  },
  {
   "cell_type": "markdown",
   "metadata": {},
   "source": [
    "Loading the pickle of the data"
   ]
  },
  {
   "cell_type": "code",
   "execution_count": 3,
   "metadata": {},
   "outputs": [],
   "source": [
    "df = pickle.load(open(\"df.pickle\", \"rb\"))"
   ]
  },
  {
   "cell_type": "markdown",
   "metadata": {},
   "source": [
    "## Linear regression\n",
    "Linear regression to see if it is possible to predict the overall value starting from the characteristics. The result is good with a median of 0.03 points over 100 total of evaluation."
   ]
  },
  {
   "cell_type": "code",
   "execution_count": 10,
   "metadata": {},
   "outputs": [
    {
     "name": "stdout",
     "output_type": "stream",
     "text": [
      "coefficient of determination: 0.7588246817366603\n",
      "intercept: 27.24294296731692\n",
      "slope: [ 0.02698179  0.02136673  0.05181192  0.04989028  0.00912932  0.0146129\n",
      "  0.01760534 -0.00205903 -0.00960711  0.12733606  0.01410257  0.01367295\n",
      " -0.00790848  0.29643583 -0.09287477  0.01371368  0.00247105  0.01531932\n",
      " -0.02943342  0.0037446   0.00712351  0.0205051  -0.04597055 -0.02224272\n",
      " -0.02230332  0.13836305  0.02848932  0.00889674 -0.03668452  0.0496097\n",
      "  0.03772565  0.00212247  0.06055227  0.05866097]\n",
      "predicted response:\n",
      "[85.10897028 88.04430188 85.19164796 ... 54.99445349 47.41319054\n",
      " 57.51075266]\n",
      "predicted response:\n",
      "[85.10897028 88.04430188 85.19164796 ... 54.99445349 47.41319054\n",
      " 57.51075266]\n",
      "result: 0.02875372284978539\n"
     ]
    }
   ],
   "source": [
    "# regression\n",
    "df = df.set_index('Name')\n",
    "\n",
    "df = df.fillna(0)\n",
    "\n",
    "x = np.array(df.iloc[:,53:87])\n",
    "y = np.array(df['Overall'])\n",
    "model = LinearRegression().fit(x, y)\n",
    "\n",
    "r_sq = model.score(x, y)\n",
    "print('coefficient of determination:', r_sq)\n",
    "# coefficient of determination\n",
    "print('intercept:', model.intercept_)\n",
    "# intercept\n",
    "print('slope:', model.coef_)\n",
    "# slope\n",
    "y_pred = model.predict(x)\n",
    "print('predicted response:', y_pred, sep='\\n')\n",
    "y_pred = model.intercept_ + np.sum(model.coef_ * x, axis=1)\n",
    "print('predicted response:', y_pred, sep='\\n')\n",
    "\n",
    "print ('result:',(y_pred-df['Overall']).median())"
   ]
  },
  {
   "cell_type": "markdown",
   "metadata": {},
   "source": [
    "## Linear regression\n",
    "Linear regression to see if it is possible to predict the overall value starting from the value, wage and potential. The result is still acceptable with a median of the difference of 1.23 points over 100 total of evaluation."
   ]
  },
  {
   "cell_type": "code",
   "execution_count": 11,
   "metadata": {},
   "outputs": [
    {
     "name": "stdout",
     "output_type": "stream",
     "text": [
      "coefficient of determination: 0.532905180162478\n",
      "intercept: 28.924084474247586\n",
      "slope: [3.03598124e-07 4.45495341e-05 5.06949598e-01]\n",
      "predicted response:\n",
      "[135.29542614 117.99696354 124.96613966 ...  62.95247296  62.44552336\n",
      "  62.44552336]\n",
      "predicted response:\n",
      "[135.29542614 117.99696354 124.96613966 ...  62.95247296  62.44552336\n",
      "  62.44552336]\n",
      "median diff: -1.2308223541530054\n"
     ]
    }
   ],
   "source": [
    "df = df.fillna(0)\n",
    "\n",
    "x = np.array(df[['Value','Wage','Potential']])\n",
    "y = np.array(df['Overall'])\n",
    "model = LinearRegression().fit(x, y)\n",
    "\n",
    "r_sq = model.score(x, y)\n",
    "print('coefficient of determination:', r_sq)\n",
    "# coefficient of determination\n",
    "print('intercept:', model.intercept_)\n",
    "# intercept\n",
    "print('slope:', model.coef_)\n",
    "# slope\n",
    "y_pred = model.predict(x)\n",
    "print('predicted response:', y_pred, sep='\\n')\n",
    "y_pred = model.intercept_ + np.sum(model.coef_ * x, axis=1)\n",
    "print('predicted response:', y_pred, sep='\\n')\n",
    "\n",
    "print ('median diff:',(y_pred-df['Overall']).median())"
   ]
  },
  {
   "cell_type": "markdown",
   "metadata": {},
   "source": [
    "## DecisionTreeClassifier\n",
    "This decision tree classifier shows how is it possible to predict the simplified position of a player starting from his characteristics with a good approximation (85%). "
   ]
  },
  {
   "cell_type": "code",
   "execution_count": 13,
   "metadata": {},
   "outputs": [
    {
     "name": "stdout",
     "output_type": "stream",
     "text": [
      "Accuracy: 0.852462017206663\n"
     ]
    }
   ],
   "source": [
    "# prevision of the SimplifiedPosition from the characteristics\n",
    "\n",
    "label = ['SimplifiedPosition']\n",
    "X = df.iloc[:,53:87] # Features\n",
    "y = df[label] # Target variable\n",
    "X_train, X_test, y_train, y_test = train_test_split(X, y, test_size=0.3, random_state=1)\n",
    "\n",
    "# Create Decision Tree classifer object\n",
    "clf = DecisionTreeClassifier(criterion=\"gini\", max_depth=8)\n",
    "\n",
    "# Train Decision Tree Classifer\n",
    "clf = clf.fit(X_train,y_train)\n",
    "\n",
    "#Predict the response for test dataset\n",
    "y_pred = clf.predict(X_test)\n",
    "\n",
    "# Model Accuracy, how often is the classifier correct?\n",
    "print(\"Accuracy:\",metrics.accuracy_score(y_test, y_pred))"
   ]
  }
 ],
 "metadata": {
  "kernelspec": {
   "display_name": "Python 3",
   "language": "python",
   "name": "python3"
  },
  "language_info": {
   "codemirror_mode": {
    "name": "ipython",
    "version": 3
   },
   "file_extension": ".py",
   "mimetype": "text/x-python",
   "name": "python",
   "nbconvert_exporter": "python",
   "pygments_lexer": "ipython3",
   "version": "3.6.8"
  }
 },
 "nbformat": 4,
 "nbformat_minor": 2
}
